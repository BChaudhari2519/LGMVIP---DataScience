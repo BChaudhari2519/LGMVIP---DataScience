{
 "cells": [
  {
   "cell_type": "markdown",
   "id": "69c6086d",
   "metadata": {},
   "source": [
    "# Task :- 3"
   ]
  },
  {
   "cell_type": "markdown",
   "id": "d19f719f",
   "metadata": {},
   "source": [
    "# Task Name :- Image to Pencil Sketch with Python"
   ]
  },
  {
   "cell_type": "code",
   "execution_count": 1,
   "id": "f7a35215",
   "metadata": {},
   "outputs": [
    {
     "name": "stdout",
     "output_type": "stream",
     "text": [
      "Requirement already satisfied: opencv-python in c:\\users\\hp\\anaconda3\\lib\\site-packages (4.7.0.72)\n",
      "Requirement already satisfied: numpy>=1.17.3 in c:\\users\\hp\\anaconda3\\lib\\site-packages (from opencv-python) (1.21.5)\n",
      "Note: you may need to restart the kernel to use updated packages.\n"
     ]
    }
   ],
   "source": [
    "pip install opencv-python"
   ]
  },
  {
   "cell_type": "code",
   "execution_count": 2,
   "id": "acc10821",
   "metadata": {},
   "outputs": [],
   "source": [
    "import cv2"
   ]
  },
  {
   "cell_type": "code",
   "execution_count": 3,
   "id": "fb89323f",
   "metadata": {},
   "outputs": [
    {
     "data": {
      "text/plain": [
       "True"
      ]
     },
     "execution_count": 3,
     "metadata": {},
     "output_type": "execute_result"
    }
   ],
   "source": [
    "image=cv2.imread('Hero.jpg')\n",
    "gray_image=cv2.cvtColor(image,cv2.COLOR_BGR2GRAY)\n",
    "cv2.imwrite('Dog.jpg',gray_image)"
   ]
  },
  {
   "cell_type": "code",
   "execution_count": 4,
   "id": "29718d05",
   "metadata": {},
   "outputs": [
    {
     "data": {
      "text/plain": [
       "True"
      ]
     },
     "execution_count": 4,
     "metadata": {},
     "output_type": "execute_result"
    }
   ],
   "source": [
    "inverted=255-gray_image\n",
    "blurred=cv2.GaussianBlur(inverted,(21,21),0)\n",
    "cv2.imwrite('Hero.jpg',blurred)"
   ]
  },
  {
   "cell_type": "code",
   "execution_count": 5,
   "id": "0bc58175",
   "metadata": {},
   "outputs": [
    {
     "data": {
      "text/plain": [
       "True"
      ]
     },
     "execution_count": 5,
     "metadata": {},
     "output_type": "execute_result"
    }
   ],
   "source": [
    "invertedblur=255-blurred\n",
    "pencilsketch=cv2.divide(gray_image,invertedblur,scale=256.0)\n",
    "cv2.imwrite('Hero.jpg',pencilsketch)"
   ]
  },
  {
   "cell_type": "code",
   "execution_count": null,
   "id": "df739b93",
   "metadata": {},
   "outputs": [],
   "source": []
  }
 ],
 "metadata": {
  "kernelspec": {
   "display_name": "Python 3 (ipykernel)",
   "language": "python",
   "name": "python3"
  },
  "language_info": {
   "codemirror_mode": {
    "name": "ipython",
    "version": 3
   },
   "file_extension": ".py",
   "mimetype": "text/x-python",
   "name": "python",
   "nbconvert_exporter": "python",
   "pygments_lexer": "ipython3",
   "version": "3.9.12"
  }
 },
 "nbformat": 4,
 "nbformat_minor": 5
}
